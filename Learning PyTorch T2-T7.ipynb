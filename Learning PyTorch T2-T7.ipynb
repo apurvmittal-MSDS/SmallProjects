{
 "cells": [
  {
   "cell_type": "code",
   "execution_count": 1,
   "id": "afe601dc",
   "metadata": {},
   "outputs": [],
   "source": [
    "import torch\n",
    "import numpy as np"
   ]
  },
  {
   "cell_type": "code",
   "execution_count": 2,
   "id": "cae2591a",
   "metadata": {},
   "outputs": [],
   "source": [
    "x = torch.empty(3)"
   ]
  },
  {
   "cell_type": "code",
   "execution_count": 3,
   "id": "8e323ce3",
   "metadata": {},
   "outputs": [
    {
     "data": {
      "text/plain": [
       "tensor([ 0.0000e+00, -3.6893e+19,  0.0000e+00])"
      ]
     },
     "execution_count": 3,
     "metadata": {},
     "output_type": "execute_result"
    }
   ],
   "source": [
    "x"
   ]
  },
  {
   "cell_type": "code",
   "execution_count": 4,
   "id": "767d0dae",
   "metadata": {},
   "outputs": [],
   "source": [
    "x = torch.empty(5,3)"
   ]
  },
  {
   "cell_type": "code",
   "execution_count": 5,
   "id": "8da9defc",
   "metadata": {},
   "outputs": [
    {
     "data": {
      "text/plain": [
       "tensor([[ 0.0000e+00, -3.6893e+19, -3.1881e+27],\n",
       "        [-3.6902e+19, -1.7482e+14,  4.5780e-41],\n",
       "        [-1.7560e+14,  4.5780e-41, -1.7561e+14],\n",
       "        [ 4.5780e-41, -1.7560e+14,  4.5780e-41],\n",
       "        [ 0.0000e+00, -3.6893e+19, -3.1867e+27]])"
      ]
     },
     "execution_count": 5,
     "metadata": {},
     "output_type": "execute_result"
    }
   ],
   "source": [
    "x"
   ]
  },
  {
   "cell_type": "code",
   "execution_count": 6,
   "id": "690242f7",
   "metadata": {},
   "outputs": [],
   "source": [
    "x=torch.ones(2,2)"
   ]
  },
  {
   "cell_type": "code",
   "execution_count": 7,
   "id": "8a5caec0",
   "metadata": {},
   "outputs": [
    {
     "data": {
      "text/plain": [
       "tensor([[1., 1.],\n",
       "        [1., 1.]])"
      ]
     },
     "execution_count": 7,
     "metadata": {},
     "output_type": "execute_result"
    }
   ],
   "source": [
    "x"
   ]
  },
  {
   "cell_type": "code",
   "execution_count": 8,
   "id": "c9b1267e",
   "metadata": {},
   "outputs": [
    {
     "name": "stdout",
     "output_type": "stream",
     "text": [
      "torch.Size([2, 2])\n"
     ]
    }
   ],
   "source": [
    "print(x.size())"
   ]
  },
  {
   "cell_type": "code",
   "execution_count": 9,
   "id": "573ca74a",
   "metadata": {},
   "outputs": [],
   "source": [
    "x=torch.tensor([3.33,4.25])"
   ]
  },
  {
   "cell_type": "code",
   "execution_count": null,
   "id": "5ec67316",
   "metadata": {},
   "outputs": [],
   "source": []
  },
  {
   "cell_type": "code",
   "execution_count": 10,
   "id": "90b25b9a",
   "metadata": {},
   "outputs": [
    {
     "data": {
      "text/plain": [
       "tensor([3.3300, 4.2500])"
      ]
     },
     "execution_count": 10,
     "metadata": {},
     "output_type": "execute_result"
    }
   ],
   "source": [
    "x"
   ]
  },
  {
   "cell_type": "code",
   "execution_count": 11,
   "id": "56965a04",
   "metadata": {},
   "outputs": [],
   "source": [
    "x=torch.rand(5,3)"
   ]
  },
  {
   "cell_type": "code",
   "execution_count": 12,
   "id": "16f56e83",
   "metadata": {},
   "outputs": [
    {
     "name": "stdout",
     "output_type": "stream",
     "text": [
      "tensor([[0.0063, 0.7576, 0.2829],\n",
      "        [0.7722, 0.4991, 0.3576],\n",
      "        [0.2585, 0.5644, 0.7920],\n",
      "        [0.1884, 0.4675, 0.6284],\n",
      "        [0.5233, 0.1643, 0.7639]])\n"
     ]
    }
   ],
   "source": [
    "print(x)"
   ]
  },
  {
   "cell_type": "code",
   "execution_count": 13,
   "id": "6d704da2",
   "metadata": {},
   "outputs": [
    {
     "name": "stdout",
     "output_type": "stream",
     "text": [
      "tensor([0.7722, 0.4991, 0.3576])\n"
     ]
    }
   ],
   "source": [
    "print(x[1,:])"
   ]
  },
  {
   "cell_type": "code",
   "execution_count": 14,
   "id": "dbaa0cc4",
   "metadata": {},
   "outputs": [
    {
     "name": "stdout",
     "output_type": "stream",
     "text": [
      "tensor(0.4991)\n"
     ]
    }
   ],
   "source": [
    "print(x[1,1])"
   ]
  },
  {
   "cell_type": "code",
   "execution_count": 15,
   "id": "90d89e63",
   "metadata": {},
   "outputs": [
    {
     "name": "stdout",
     "output_type": "stream",
     "text": [
      "0.49913036823272705\n"
     ]
    }
   ],
   "source": [
    "print(x[1,1].item())"
   ]
  },
  {
   "cell_type": "code",
   "execution_count": 16,
   "id": "b3056da8",
   "metadata": {},
   "outputs": [
    {
     "data": {
      "text/plain": [
       "tensor([[0.6716, 0.6642, 0.5555, 0.8622],\n",
       "        [0.3516, 0.9140, 0.3065, 0.9673],\n",
       "        [0.8325, 0.6042, 0.5419, 0.7623],\n",
       "        [0.6681, 0.0675, 0.6558, 0.0804]])"
      ]
     },
     "execution_count": 16,
     "metadata": {},
     "output_type": "execute_result"
    }
   ],
   "source": [
    "x=torch.rand(4,4)\n",
    "x"
   ]
  },
  {
   "cell_type": "code",
   "execution_count": 17,
   "id": "5af07e8d",
   "metadata": {},
   "outputs": [
    {
     "data": {
      "text/plain": [
       "tensor([0.6716, 0.6642, 0.5555, 0.8622, 0.3516, 0.9140, 0.3065, 0.9673, 0.8325,\n",
       "        0.6042, 0.5419, 0.7623, 0.6681, 0.0675, 0.6558, 0.0804])"
      ]
     },
     "execution_count": 17,
     "metadata": {},
     "output_type": "execute_result"
    }
   ],
   "source": [
    "y=x.view(16)\n",
    "y"
   ]
  },
  {
   "cell_type": "code",
   "execution_count": 18,
   "id": "feb26f1b",
   "metadata": {},
   "outputs": [
    {
     "data": {
      "text/plain": [
       "tensor([[0.6716, 0.6642, 0.5555, 0.8622, 0.3516, 0.9140, 0.3065, 0.9673],\n",
       "        [0.8325, 0.6042, 0.5419, 0.7623, 0.6681, 0.0675, 0.6558, 0.0804]])"
      ]
     },
     "execution_count": 18,
     "metadata": {},
     "output_type": "execute_result"
    }
   ],
   "source": [
    "y=x.view(-1,8)\n",
    "y"
   ]
  },
  {
   "cell_type": "code",
   "execution_count": 19,
   "id": "ec6814f8",
   "metadata": {},
   "outputs": [],
   "source": [
    "a = torch.ones(5)\n",
    "b=a.numpy()"
   ]
  },
  {
   "cell_type": "code",
   "execution_count": 20,
   "id": "aa867245",
   "metadata": {},
   "outputs": [
    {
     "data": {
      "text/plain": [
       "tensor([1., 1., 1., 1., 1.])"
      ]
     },
     "execution_count": 20,
     "metadata": {},
     "output_type": "execute_result"
    }
   ],
   "source": [
    "a"
   ]
  },
  {
   "cell_type": "code",
   "execution_count": 21,
   "id": "dceb6ed9",
   "metadata": {},
   "outputs": [
    {
     "data": {
      "text/plain": [
       "numpy.ndarray"
      ]
     },
     "execution_count": 21,
     "metadata": {},
     "output_type": "execute_result"
    }
   ],
   "source": [
    "type(b)"
   ]
  },
  {
   "cell_type": "code",
   "execution_count": 22,
   "id": "fa505cb8",
   "metadata": {},
   "outputs": [
    {
     "data": {
      "text/plain": [
       "torch.Tensor"
      ]
     },
     "execution_count": 22,
     "metadata": {},
     "output_type": "execute_result"
    }
   ],
   "source": [
    "type(a)"
   ]
  },
  {
   "cell_type": "code",
   "execution_count": 23,
   "id": "0e720c05",
   "metadata": {},
   "outputs": [
    {
     "data": {
      "text/plain": [
       "tensor([2., 2., 2., 2., 2.])"
      ]
     },
     "execution_count": 23,
     "metadata": {},
     "output_type": "execute_result"
    }
   ],
   "source": [
    "a.add_(1)\n",
    "a"
   ]
  },
  {
   "cell_type": "code",
   "execution_count": 24,
   "id": "e78055de",
   "metadata": {},
   "outputs": [],
   "source": [
    "x = torch.rand(3, requires_grad = True)"
   ]
  },
  {
   "cell_type": "code",
   "execution_count": 25,
   "id": "a6353fb3",
   "metadata": {},
   "outputs": [
    {
     "data": {
      "text/plain": [
       "tensor([0.1693, 0.8401, 0.4360], requires_grad=True)"
      ]
     },
     "execution_count": 25,
     "metadata": {},
     "output_type": "execute_result"
    }
   ],
   "source": [
    "x"
   ]
  },
  {
   "cell_type": "code",
   "execution_count": 26,
   "id": "ed353920",
   "metadata": {},
   "outputs": [
    {
     "data": {
      "text/plain": [
       "tensor([2.1693, 2.8401, 2.4360], grad_fn=<AddBackward0>)"
      ]
     },
     "execution_count": 26,
     "metadata": {},
     "output_type": "execute_result"
    }
   ],
   "source": [
    "y=x+2\n",
    "y"
   ]
  },
  {
   "cell_type": "code",
   "execution_count": 27,
   "id": "b0cd5df7",
   "metadata": {},
   "outputs": [],
   "source": [
    "z=y*2\n",
    "z=z.mean()"
   ]
  },
  {
   "cell_type": "code",
   "execution_count": 28,
   "id": "213abf5f",
   "metadata": {},
   "outputs": [],
   "source": [
    "z.backward() #dz/dx"
   ]
  },
  {
   "cell_type": "code",
   "execution_count": 29,
   "id": "dd654d89",
   "metadata": {},
   "outputs": [
    {
     "data": {
      "text/plain": [
       "tensor(4.9636, grad_fn=<MeanBackward0>)"
      ]
     },
     "execution_count": 29,
     "metadata": {},
     "output_type": "execute_result"
    }
   ],
   "source": [
    "z"
   ]
  },
  {
   "cell_type": "code",
   "execution_count": 30,
   "id": "1908f527",
   "metadata": {},
   "outputs": [
    {
     "name": "stdout",
     "output_type": "stream",
     "text": [
      "tensor([0.6667, 0.6667, 0.6667])\n"
     ]
    }
   ],
   "source": [
    "print(x.grad)"
   ]
  },
  {
   "cell_type": "markdown",
   "id": "819079ad",
   "metadata": {},
   "source": [
    "# gradient = dz/dx can work only on scalar values. We can get that by calculating a value like mean or multiplying with a vector"
   ]
  },
  {
   "cell_type": "code",
   "execution_count": 31,
   "id": "8afd8816",
   "metadata": {},
   "outputs": [],
   "source": [
    "weights = torch.ones(4, requires_grad = True)"
   ]
  },
  {
   "cell_type": "code",
   "execution_count": 32,
   "id": "dddb492c",
   "metadata": {},
   "outputs": [
    {
     "name": "stdout",
     "output_type": "stream",
     "text": [
      "tensor(12., grad_fn=<SumBackward0>)\n",
      "tensor([1., 1., 1., 1.], requires_grad=True)\n",
      "tensor([3., 3., 3., 3.])\n",
      "tensor([0., 0., 0., 0.])\n",
      "tensor(12., grad_fn=<SumBackward0>)\n",
      "tensor([1., 1., 1., 1.], requires_grad=True)\n",
      "tensor([3., 3., 3., 3.])\n",
      "tensor([0., 0., 0., 0.])\n",
      "tensor(12., grad_fn=<SumBackward0>)\n",
      "tensor([1., 1., 1., 1.], requires_grad=True)\n",
      "tensor([3., 3., 3., 3.])\n",
      "tensor([0., 0., 0., 0.])\n"
     ]
    }
   ],
   "source": [
    "for epoch in range(3):\n",
    "    model_output = (weights*3).sum()\n",
    "    model_output.backward()\n",
    "    print(model_output)\n",
    "    print(weights)\n",
    "    print(weights.grad)\n",
    "    weights.grad.zero_()\n",
    "    print(weights.grad)"
   ]
  },
  {
   "cell_type": "markdown",
   "id": "98b53678",
   "metadata": {},
   "source": [
    "### Backpropogation"
   ]
  },
  {
   "cell_type": "code",
   "execution_count": 33,
   "id": "49ea6791",
   "metadata": {},
   "outputs": [],
   "source": [
    "x = torch.tensor(1.0)\n",
    "y = torch.tensor(2.0)"
   ]
  },
  {
   "cell_type": "code",
   "execution_count": 34,
   "id": "28021820",
   "metadata": {},
   "outputs": [],
   "source": [
    "w = torch.tensor(1.0, requires_grad = True) # weight"
   ]
  },
  {
   "cell_type": "code",
   "execution_count": 35,
   "id": "6fd90752",
   "metadata": {},
   "outputs": [],
   "source": [
    "# forward pass and compute loss"
   ]
  },
  {
   "cell_type": "code",
   "execution_count": 36,
   "id": "1d81a5e6",
   "metadata": {},
   "outputs": [],
   "source": [
    "y_hat = w*x # simple regression function"
   ]
  },
  {
   "cell_type": "code",
   "execution_count": 37,
   "id": "3fc3f15d",
   "metadata": {},
   "outputs": [],
   "source": [
    "loss = (y_hat - y)**2 # Loss calculation requires mean square error, here just the square for simplicity"
   ]
  },
  {
   "cell_type": "code",
   "execution_count": 38,
   "id": "422ba5de",
   "metadata": {},
   "outputs": [
    {
     "name": "stdout",
     "output_type": "stream",
     "text": [
      "tensor(1., grad_fn=<PowBackward0>)\n"
     ]
    }
   ],
   "source": [
    "print (loss)"
   ]
  },
  {
   "cell_type": "code",
   "execution_count": 39,
   "id": "ef2fb86e",
   "metadata": {},
   "outputs": [],
   "source": [
    "# Backward Pass"
   ]
  },
  {
   "cell_type": "code",
   "execution_count": 40,
   "id": "21713e34",
   "metadata": {},
   "outputs": [],
   "source": [
    "loss.backward()"
   ]
  },
  {
   "cell_type": "code",
   "execution_count": 41,
   "id": "648b14e1",
   "metadata": {},
   "outputs": [
    {
     "name": "stdout",
     "output_type": "stream",
     "text": [
      "tensor(-2.)\n"
     ]
    }
   ],
   "source": [
    "print(w.grad)"
   ]
  },
  {
   "cell_type": "code",
   "execution_count": 42,
   "id": "581cef72",
   "metadata": {},
   "outputs": [],
   "source": [
    "# update weights and do forward and backward progression until we have low loss"
   ]
  },
  {
   "cell_type": "markdown",
   "id": "6f6c712a",
   "metadata": {},
   "source": [
    "### Gradient Descent"
   ]
  },
  {
   "cell_type": "code",
   "execution_count": 43,
   "id": "6f10be0f",
   "metadata": {},
   "outputs": [],
   "source": [
    "# f=w*x\n",
    "# f=2*x"
   ]
  },
  {
   "cell_type": "code",
   "execution_count": 44,
   "id": "0efea7ab",
   "metadata": {},
   "outputs": [],
   "source": [
    "X = np.array([1,2,3,4], dtype=np.float32)\n",
    "Y = np.array([2,4,6,8], dtype=np.float32)"
   ]
  },
  {
   "cell_type": "code",
   "execution_count": 45,
   "id": "68c4c487",
   "metadata": {},
   "outputs": [],
   "source": [
    "w = 0.0 # initialize"
   ]
  },
  {
   "cell_type": "code",
   "execution_count": 46,
   "id": "254816db",
   "metadata": {},
   "outputs": [],
   "source": [
    "# Model Prediction, forward pass"
   ]
  },
  {
   "cell_type": "code",
   "execution_count": 47,
   "id": "e9486db3",
   "metadata": {},
   "outputs": [],
   "source": [
    "def forward(x):\n",
    "    return w*x"
   ]
  },
  {
   "cell_type": "code",
   "execution_count": 48,
   "id": "d97ff4ba",
   "metadata": {},
   "outputs": [],
   "source": [
    "# loss = MSE"
   ]
  },
  {
   "cell_type": "code",
   "execution_count": 49,
   "id": "b5090957",
   "metadata": {},
   "outputs": [],
   "source": [
    "def loss(y,y_predicted):\n",
    "    return ((y_predicted - y)**2).mean()"
   ]
  },
  {
   "cell_type": "code",
   "execution_count": 50,
   "id": "afcf2528",
   "metadata": {},
   "outputs": [],
   "source": [
    "# gradient"
   ]
  },
  {
   "cell_type": "code",
   "execution_count": 51,
   "id": "69159bbc",
   "metadata": {},
   "outputs": [],
   "source": [
    "# MSE = I/N * (w*x - y)**2\n",
    "# dJ/dw = 1/N 2x (w*x - y)"
   ]
  },
  {
   "cell_type": "code",
   "execution_count": 52,
   "id": "c1e0769c",
   "metadata": {},
   "outputs": [],
   "source": [
    "def gradient (x,y, y_predicted):\n",
    "    return np.dot(2*x, y_predicted -y).mean()"
   ]
  },
  {
   "cell_type": "code",
   "execution_count": 53,
   "id": "987d961e",
   "metadata": {},
   "outputs": [
    {
     "name": "stdout",
     "output_type": "stream",
     "text": [
      "Predicted before training: f(5) = 0.000\n"
     ]
    }
   ],
   "source": [
    "print(f'Predicted before training: f(5) = {forward(5):.3f}')"
   ]
  },
  {
   "cell_type": "code",
   "execution_count": 54,
   "id": "c8c11314",
   "metadata": {},
   "outputs": [],
   "source": [
    "# Training"
   ]
  },
  {
   "cell_type": "code",
   "execution_count": 55,
   "id": "642d289f",
   "metadata": {},
   "outputs": [],
   "source": [
    "learning_rate = 0.01\n",
    "n_iters = 10"
   ]
  },
  {
   "cell_type": "code",
   "execution_count": 56,
   "id": "1194a572",
   "metadata": {},
   "outputs": [
    {
     "name": "stdout",
     "output_type": "stream",
     "text": [
      "epoch 1: w = 1.200, loss = 30.00000000\n",
      "epoch 2: w = 1.680, loss = 4.79999924\n",
      "epoch 3: w = 1.872, loss = 0.76800019\n",
      "epoch 4: w = 1.949, loss = 0.12288000\n",
      "epoch 5: w = 1.980, loss = 0.01966083\n",
      "epoch 6: w = 1.992, loss = 0.00314574\n",
      "epoch 7: w = 1.997, loss = 0.00050331\n",
      "epoch 8: w = 1.999, loss = 0.00008053\n",
      "epoch 9: w = 1.999, loss = 0.00001288\n",
      "epoch 10: w = 2.000, loss = 0.00000206\n",
      "Predicted after Training: f(5) = 9.999\n"
     ]
    }
   ],
   "source": [
    "for epoch in range (n_iters):\n",
    "    # prediction = forward pass\n",
    "    y_pred = forward(X)\n",
    "    \n",
    "    # loss\n",
    "    l= loss(Y, y_pred)\n",
    "    \n",
    "    #gradients\n",
    "    dw = gradient(X,Y,y_pred)\n",
    "    \n",
    "    # update weights\n",
    "    \n",
    "    w -=learning_rate*dw\n",
    "    \n",
    "    if epoch % 1 ==0:\n",
    "        print(f'epoch {epoch+1}: w = {w:.3f}, loss = {l:.8f}')\n",
    "\n",
    "print(f'Predicted after Training: f(5) = {forward(5):.3f}')\n",
    "        "
   ]
  },
  {
   "cell_type": "markdown",
   "id": "f3849eeb",
   "metadata": {},
   "source": [
    "### Automate the gradient descent"
   ]
  },
  {
   "cell_type": "code",
   "execution_count": 57,
   "id": "aa4c16a5",
   "metadata": {},
   "outputs": [],
   "source": [
    "X = torch.tensor([1,2,3,4], dtype=torch.float32)\n",
    "Y = torch.tensor([2,4,6,8], dtype=torch.float32)"
   ]
  },
  {
   "cell_type": "code",
   "execution_count": 58,
   "id": "f61b601d",
   "metadata": {},
   "outputs": [],
   "source": [
    "w = torch.tensor(0.0, dtype=torch.float32, requires_grad=True)"
   ]
  },
  {
   "cell_type": "code",
   "execution_count": 59,
   "id": "0defa5b0",
   "metadata": {},
   "outputs": [],
   "source": [
    "def forward(x):\n",
    "    return w*x"
   ]
  },
  {
   "cell_type": "code",
   "execution_count": 60,
   "id": "a792c441",
   "metadata": {},
   "outputs": [],
   "source": [
    "def loss(y,y_predicted):\n",
    "    return ((y_predicted - y)**2).mean()"
   ]
  },
  {
   "cell_type": "code",
   "execution_count": 61,
   "id": "ecaf99a6",
   "metadata": {},
   "outputs": [],
   "source": [
    "learning_rate = 0.01\n",
    "n_iters = 100"
   ]
  },
  {
   "cell_type": "code",
   "execution_count": 62,
   "id": "cc2fb57d",
   "metadata": {},
   "outputs": [
    {
     "name": "stdout",
     "output_type": "stream",
     "text": [
      "epoch 1: w = 0.300, loss = 30.00000000\n",
      "epoch 11: w = 1.665, loss = 1.16278565\n",
      "epoch 21: w = 1.934, loss = 0.04506890\n",
      "epoch 31: w = 1.987, loss = 0.00174685\n",
      "epoch 41: w = 1.997, loss = 0.00006770\n",
      "epoch 51: w = 1.999, loss = 0.00000262\n",
      "epoch 61: w = 2.000, loss = 0.00000010\n",
      "epoch 71: w = 2.000, loss = 0.00000000\n",
      "epoch 81: w = 2.000, loss = 0.00000000\n",
      "epoch 91: w = 2.000, loss = 0.00000000\n",
      "Predicted after Training: f(5) = 10.000\n"
     ]
    }
   ],
   "source": [
    "for epoch in range (n_iters):\n",
    "    # prediction = forward pass\n",
    "    y_pred = forward(X)\n",
    "    \n",
    "    # loss\n",
    "    l= loss(Y, y_pred)\n",
    "    \n",
    "    #gradients\n",
    "    l.backward() # dl/dw\n",
    "    \n",
    "    # update weights # It will reduce memory consumption for computations that would otherwise have requires_grad=True.\n",
    "    with torch.no_grad():\n",
    "        w -=learning_rate*w.grad\n",
    "    \n",
    "    # zero gradients\n",
    "    w.grad.zero_()\n",
    "    \n",
    "    if epoch % 10 ==0:\n",
    "        print(f'epoch {epoch+1}: w = {w:.3f}, loss = {l:.8f}')\n",
    "\n",
    "print(f'Predicted after Training: f(5) = {forward(5):.3f}')\n",
    "        "
   ]
  },
  {
   "cell_type": "markdown",
   "id": "446dc2bc",
   "metadata": {},
   "source": [
    "### Automate the Loss Calculation and Optimizer"
   ]
  },
  {
   "cell_type": "code",
   "execution_count": 64,
   "id": "e28dff4e",
   "metadata": {},
   "outputs": [],
   "source": [
    "import torch.nn as nn"
   ]
  },
  {
   "cell_type": "code",
   "execution_count": 65,
   "id": "622e4e6a",
   "metadata": {},
   "outputs": [],
   "source": [
    "X = torch.tensor([1,2,3,4], dtype=torch.float32)\n",
    "Y = torch.tensor([2,4,6,8], dtype=torch.float32)"
   ]
  },
  {
   "cell_type": "code",
   "execution_count": 66,
   "id": "daac0811",
   "metadata": {},
   "outputs": [],
   "source": [
    "w = torch.tensor(0.0, dtype=torch.float32, requires_grad=True)"
   ]
  },
  {
   "cell_type": "code",
   "execution_count": 67,
   "id": "41172ca0",
   "metadata": {},
   "outputs": [],
   "source": [
    "def forward(x):\n",
    "    return w*x"
   ]
  },
  {
   "cell_type": "code",
   "execution_count": 68,
   "id": "593c2804",
   "metadata": {},
   "outputs": [
    {
     "name": "stdout",
     "output_type": "stream",
     "text": [
      "Predicted before training: f(5) = 0.000\n"
     ]
    }
   ],
   "source": [
    "print(f'Predicted before training: f(5) = {forward(5):.3f}')"
   ]
  },
  {
   "cell_type": "code",
   "execution_count": 69,
   "id": "420ca568",
   "metadata": {},
   "outputs": [],
   "source": [
    "learning_rate = 0.01\n",
    "n_iters = 100"
   ]
  },
  {
   "cell_type": "code",
   "execution_count": 70,
   "id": "603464ef",
   "metadata": {},
   "outputs": [],
   "source": [
    "loss = nn.MSELoss() # callable loss function"
   ]
  },
  {
   "cell_type": "code",
   "execution_count": 71,
   "id": "471db367",
   "metadata": {},
   "outputs": [],
   "source": [
    "optimizer = torch.optim.SGD([w], lr = learning_rate) # defining the optimizer, in this case SGD with weights as list and learning rate as parameters"
   ]
  },
  {
   "cell_type": "code",
   "execution_count": 73,
   "id": "044bdf90",
   "metadata": {},
   "outputs": [
    {
     "name": "stdout",
     "output_type": "stream",
     "text": [
      "epoch 1: w = 0.855, loss = 21.67499924\n",
      "epoch 11: w = 1.775, loss = 0.52748799\n",
      "epoch 21: w = 1.956, loss = 0.02044514\n",
      "epoch 31: w = 1.991, loss = 0.00079244\n",
      "epoch 41: w = 1.998, loss = 0.00003072\n",
      "epoch 51: w = 2.000, loss = 0.00000119\n",
      "epoch 61: w = 2.000, loss = 0.00000005\n",
      "epoch 71: w = 2.000, loss = 0.00000000\n",
      "epoch 81: w = 2.000, loss = 0.00000000\n",
      "epoch 91: w = 2.000, loss = 0.00000000\n",
      "Predicted after Training: f(5) = 10.000\n"
     ]
    }
   ],
   "source": [
    "for epoch in range (n_iters):\n",
    "    # prediction = forward pass\n",
    "    y_pred = forward(X)\n",
    "    \n",
    "    # loss\n",
    "    l= loss(Y, y_pred)\n",
    "    \n",
    "    #gradients\n",
    "    l.backward() # dl/dw\n",
    "    \n",
    "    # update weights \n",
    "    optimizer.step()\n",
    "    \n",
    "    # zero gradients\n",
    "    optimizer.zero_grad()\n",
    "    \n",
    "    if epoch % 10 ==0:\n",
    "        print(f'epoch {epoch+1}: w = {w:.3f}, loss = {l:.8f}')\n",
    "\n",
    "print(f'Predicted after Training: f(5) = {forward(5):.3f}')\n",
    "        "
   ]
  },
  {
   "cell_type": "markdown",
   "id": "9777d010",
   "metadata": {},
   "source": [
    "### Automate the Forward Pass and Weights\n"
   ]
  },
  {
   "cell_type": "code",
   "execution_count": 82,
   "id": "6d81e6d7",
   "metadata": {},
   "outputs": [],
   "source": [
    "X = torch.tensor([[1],[2],[3],[4]], dtype=torch.float32)\n",
    "Y = torch.tensor([[2],[4],[6],[8]], dtype=torch.float32)"
   ]
  },
  {
   "cell_type": "code",
   "execution_count": 83,
   "id": "8294ee74",
   "metadata": {},
   "outputs": [],
   "source": [
    "X_test = torch.tensor([5], dtype = torch.float32)"
   ]
  },
  {
   "cell_type": "code",
   "execution_count": 84,
   "id": "d48c3e2d",
   "metadata": {},
   "outputs": [
    {
     "name": "stdout",
     "output_type": "stream",
     "text": [
      "4 1\n"
     ]
    }
   ],
   "source": [
    "n_samples, n_features = X.shape\n",
    "print(n_samples, n_features)"
   ]
  },
  {
   "cell_type": "code",
   "execution_count": 85,
   "id": "676dee38",
   "metadata": {},
   "outputs": [],
   "source": [
    "input_size = n_features\n",
    "output_size = n_features"
   ]
  },
  {
   "cell_type": "code",
   "execution_count": 86,
   "id": "389cfd3c",
   "metadata": {},
   "outputs": [],
   "source": [
    "model = nn.Linear(input_size, output_size)"
   ]
  },
  {
   "cell_type": "code",
   "execution_count": null,
   "id": "369339ef",
   "metadata": {},
   "outputs": [],
   "source": []
  },
  {
   "cell_type": "code",
   "execution_count": 87,
   "id": "a9bb03c3",
   "metadata": {},
   "outputs": [
    {
     "name": "stdout",
     "output_type": "stream",
     "text": [
      "Predicted before training: f(5) = -0.426\n"
     ]
    }
   ],
   "source": [
    "print(f'Predicted before training: f(5) = {model(X_test).item():.3f}')"
   ]
  },
  {
   "cell_type": "code",
   "execution_count": 88,
   "id": "6daa2b4d",
   "metadata": {},
   "outputs": [],
   "source": [
    "learning_rate = 0.01\n",
    "n_iters = 100"
   ]
  },
  {
   "cell_type": "code",
   "execution_count": 89,
   "id": "f54e5db2",
   "metadata": {},
   "outputs": [],
   "source": [
    "loss = nn.MSELoss() # callable loss function"
   ]
  },
  {
   "cell_type": "code",
   "execution_count": 90,
   "id": "4d307fa2",
   "metadata": {},
   "outputs": [],
   "source": [
    "optimizer = torch.optim.SGD(model.parameters(), lr = learning_rate)"
   ]
  },
  {
   "cell_type": "code",
   "execution_count": 92,
   "id": "d13d79d4",
   "metadata": {},
   "outputs": [
    {
     "name": "stdout",
     "output_type": "stream",
     "text": [
      "epoch 1: w = 1.602, loss = 0.23009968\n",
      "epoch 11: w = 1.614, loss = 0.21670675\n",
      "epoch 21: w = 1.625, loss = 0.20409335\n",
      "epoch 31: w = 1.636, loss = 0.19221409\n",
      "epoch 41: w = 1.647, loss = 0.18102625\n",
      "epoch 51: w = 1.657, loss = 0.17048961\n",
      "epoch 61: w = 1.668, loss = 0.16056615\n",
      "epoch 71: w = 1.677, loss = 0.15122040\n",
      "epoch 81: w = 1.687, loss = 0.14241852\n",
      "epoch 91: w = 1.696, loss = 0.13412902\n",
      "Predicted after Training: f(5) = 9.391\n"
     ]
    }
   ],
   "source": [
    "for epoch in range (n_iters):\n",
    "    # prediction = forward pass\n",
    "    y_pred = model(X)\n",
    "    \n",
    "    # loss\n",
    "    l= loss(Y, y_pred)\n",
    "    \n",
    "    #gradients\n",
    "    l.backward() # dl/dw\n",
    "    \n",
    "    # update weights \n",
    "    optimizer.step()\n",
    "    \n",
    "    # zero gradients\n",
    "    optimizer.zero_grad()\n",
    "    \n",
    "    if epoch % 10 ==0:\n",
    "        [w,b] = model.parameters()\n",
    "        print(f'epoch {epoch+1}: w = {w[0][0].item():.3f}, loss = {l:.8f}')\n",
    "\n",
    "print(f'Predicted after Training: f(5) = {model(X_test).item():.3f}')\n",
    "        "
   ]
  },
  {
   "cell_type": "markdown",
   "id": "c0e7c5dc",
   "metadata": {},
   "source": [
    "### Add Linear Regression Class"
   ]
  },
  {
   "cell_type": "code",
   "execution_count": 93,
   "id": "6dd95da0",
   "metadata": {},
   "outputs": [],
   "source": [
    "X = torch.tensor([[1],[2],[3],[4]], dtype=torch.float32)\n",
    "Y = torch.tensor([[2],[4],[6],[8]], dtype=torch.float32)\n",
    "X_test = torch.tensor([5], dtype = torch.float32)"
   ]
  },
  {
   "cell_type": "code",
   "execution_count": 94,
   "id": "561b88e5",
   "metadata": {},
   "outputs": [],
   "source": [
    "n_samples, n_features = X.shape\n",
    "input_size = n_features\n",
    "output_size = n_features"
   ]
  },
  {
   "cell_type": "code",
   "execution_count": 99,
   "id": "3600c6e8",
   "metadata": {},
   "outputs": [],
   "source": [
    "class LinearRegression(nn.Module):\n",
    "    def __init__(self, input_dim, output_dim):\n",
    "        super(LinearRegression, self).__init__()\n",
    "        # define layers\n",
    "        self.lin = nn.Linear(input_dim, output_dim)\n",
    "    \n",
    "    def forward(self,x):\n",
    "        return self.lin(x)\n",
    "        "
   ]
  },
  {
   "cell_type": "code",
   "execution_count": 100,
   "id": "3c94d480",
   "metadata": {},
   "outputs": [],
   "source": [
    "model =LinearRegression(input_size, output_size)"
   ]
  },
  {
   "cell_type": "code",
   "execution_count": 101,
   "id": "1d8a4d06",
   "metadata": {},
   "outputs": [
    {
     "name": "stdout",
     "output_type": "stream",
     "text": [
      "Predicted before training: f(5) = 1.808\n"
     ]
    }
   ],
   "source": [
    "print(f'Predicted before training: f(5) = {model(X_test).item():.3f}')"
   ]
  },
  {
   "cell_type": "code",
   "execution_count": 102,
   "id": "8bae3220",
   "metadata": {},
   "outputs": [],
   "source": [
    "learning_rate = 0.01\n",
    "n_iters = 100"
   ]
  },
  {
   "cell_type": "code",
   "execution_count": 103,
   "id": "ffa58015",
   "metadata": {},
   "outputs": [],
   "source": [
    "loss = nn.MSELoss() # callable loss function"
   ]
  },
  {
   "cell_type": "code",
   "execution_count": 104,
   "id": "67230b33",
   "metadata": {},
   "outputs": [],
   "source": [
    "optimizer = torch.optim.SGD(model.parameters(), lr = learning_rate)"
   ]
  },
  {
   "cell_type": "code",
   "execution_count": 105,
   "id": "1248dbfc",
   "metadata": {},
   "outputs": [
    {
     "name": "stdout",
     "output_type": "stream",
     "text": [
      "epoch 1: w = 0.617, loss = 20.28111267\n",
      "epoch 11: w = 1.652, loss = 0.55666775\n",
      "epoch 21: w = 1.822, loss = 0.04449025\n",
      "epoch 31: w = 1.853, loss = 0.02948774\n",
      "epoch 41: w = 1.862, loss = 0.02745027\n",
      "epoch 51: w = 1.866, loss = 0.02584418\n",
      "epoch 61: w = 1.871, loss = 0.02433974\n",
      "epoch 71: w = 1.874, loss = 0.02292302\n",
      "epoch 81: w = 1.878, loss = 0.02158877\n",
      "epoch 91: w = 1.882, loss = 0.02033220\n",
      "Predicted after Training: f(5) = 9.763\n"
     ]
    }
   ],
   "source": [
    "for epoch in range (n_iters):\n",
    "    # prediction = forward pass\n",
    "    y_pred = model(X)\n",
    "    \n",
    "    # loss\n",
    "    l= loss(Y, y_pred)\n",
    "    \n",
    "    #gradients\n",
    "    l.backward() # dl/dw\n",
    "    \n",
    "    # update weights \n",
    "    optimizer.step()\n",
    "    \n",
    "    # zero gradients\n",
    "    optimizer.zero_grad()\n",
    "    \n",
    "    if epoch % 10 ==0:\n",
    "        [w,b] = model.parameters()\n",
    "        print(f'epoch {epoch+1}: w = {w[0][0].item():.3f}, loss = {l:.8f}')\n",
    "\n",
    "print(f'Predicted after Training: f(5) = {model(X_test).item():.3f}')"
   ]
  },
  {
   "cell_type": "markdown",
   "id": "d63e4f1a",
   "metadata": {},
   "source": [
    "### Linear Regression"
   ]
  },
  {
   "cell_type": "code",
   "execution_count": 106,
   "id": "35eabace",
   "metadata": {},
   "outputs": [],
   "source": [
    "import torch\n",
    "import torch.nn as nn\n",
    "import numpy as np\n",
    "from sklearn import datasets\n",
    "import matplotlib.pyplot as plt"
   ]
  },
  {
   "cell_type": "code",
   "execution_count": 107,
   "id": "cd2c5d92",
   "metadata": {},
   "outputs": [],
   "source": [
    "# Prerpare Data\n",
    "\n",
    "X_numpy, y_numpy = datasets.make_regression(n_samples = 100, n_features = 1, noise = 20, random_state =1)"
   ]
  },
  {
   "cell_type": "code",
   "execution_count": 108,
   "id": "2587e693",
   "metadata": {},
   "outputs": [],
   "source": [
    "X = torch.from_numpy(X_numpy.astype(np.float32))\n",
    "y = torch.from_numpy(y_numpy.astype(np.float32))\n",
    "y = y.view(y.shape[0],1)"
   ]
  },
  {
   "cell_type": "code",
   "execution_count": 109,
   "id": "f3c3379a",
   "metadata": {},
   "outputs": [],
   "source": [
    "n_samples, n_features = X.shape"
   ]
  },
  {
   "cell_type": "code",
   "execution_count": 110,
   "id": "b9739912",
   "metadata": {},
   "outputs": [],
   "source": [
    "# Model\n",
    "learning_rate = 0.01\n",
    "input_size = n_features\n",
    "output_size = 1\n",
    "model = nn.Linear(input_size, output_size)"
   ]
  },
  {
   "cell_type": "code",
   "execution_count": 111,
   "id": "c93a9154",
   "metadata": {},
   "outputs": [],
   "source": [
    "# Loss and optimizer\n",
    "criterion = nn.MSELoss()\n",
    "optimizer = torch.optim.SGD(model.parameters(), lr = learning_rate)"
   ]
  },
  {
   "cell_type": "code",
   "execution_count": 120,
   "id": "201c96dd",
   "metadata": {},
   "outputs": [
    {
     "name": "stdout",
     "output_type": "stream",
     "text": [
      "epoch:10, loss = 332.5819\n",
      "epoch:20, loss = 332.5781\n",
      "epoch:30, loss = 332.5753\n",
      "epoch:40, loss = 332.5732\n",
      "epoch:50, loss = 332.5717\n",
      "epoch:60, loss = 332.5706\n",
      "epoch:70, loss = 332.5698\n",
      "epoch:80, loss = 332.5692\n",
      "epoch:90, loss = 332.5688\n",
      "epoch:100, loss = 332.5685\n"
     ]
    },
    {
     "data": {
      "image/png": "[encoded data removed]",
      "text/plain": [
       "<Figure size 640x480 with 1 Axes>"
      ]
     },
     "metadata": {},
     "output_type": "display_data"
    }
   ],
   "source": [
    "# Training Loop\n",
    "\n",
    "num_epochs = 100\n",
    "for epoch in range(num_epochs):\n",
    "    #forward pass and loss\n",
    "    y_predicted = model(X)\n",
    "    loss = criterion (y_predicted,y)\n",
    "    \n",
    "    # backward pass\n",
    "    loss.backward()\n",
    "    \n",
    "    #update\n",
    "    optimizer.step()\n",
    "    \n",
    "    optimizer.zero_grad()\n",
    "    \n",
    "    if (epoch+1) % 10 ==0:\n",
    "        print(f'epoch:{epoch+1}, loss = {loss.item():.4f}')\n",
    "        \n",
    "# plot\n",
    "\n",
    "predicted = model(X).detach().numpy()\n",
    "plt.plot(X_numpy, y_numpy, 'ro')\n",
    "plt.plot(X_numpy, predicted, 'b')\n",
    "plt.show()"
   ]
  },
  {
   "cell_type": "code",
   "execution_count": null,
   "id": "2f5e869d",
   "metadata": {},
   "outputs": [],
   "source": []
  }
 ],
 "metadata": {
  "kernelspec": {
   "display_name": "Python 3 (ipykernel)",
   "language": "python",
   "name": "python3"
  },
  "language_info": {
   "codemirror_mode": {
    "name": "ipython",
    "version": 3
   },
   "file_extension": ".py",
   "mimetype": "text/x-python",
   "name": "python",
   "nbconvert_exporter": "python",
   "pygments_lexer": "ipython3",
   "version": "3.8.13"
  }
 },
 "nbformat": 4,
 "nbformat_minor": 5
}
