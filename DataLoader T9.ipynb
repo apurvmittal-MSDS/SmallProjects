{
 "cells": [
  {
   "cell_type": "code",
   "execution_count": 7,
   "id": "e0b131c9",
   "metadata": {},
   "outputs": [],
   "source": [
    "import torch\n",
    "import torchvision\n",
    "from torch.utils.data import Dataset, DataLoader\n",
    "import torch.nn as nn\n",
    "import numpy as np\n",
    "import math"
   ]
  },
  {
   "cell_type": "code",
   "execution_count": 8,
   "id": "597b56b6",
   "metadata": {},
   "outputs": [],
   "source": [
    "class WineDataset(Dataset):\n",
    "    def __init__(self):\n",
    "        # data loading\n",
    "        xy = np.loadtxt('wine.csv', delimiter =\",\", dtype =np.float32, skiprows=1)\n",
    "        self.x =torch.from_numpy(xy[:,1:])\n",
    "        self.y = torch.from_numpy(xy[:,[0]]) #n_samples,1\n",
    "        self.n_samples = xy.shape[0]\n",
    "        \n",
    "    def __getitem__(self,index):\n",
    "        return self.x[index], self.y[index]\n",
    "    \n",
    "    def __len__(self):\n",
    "        return self.n_samples\n"
   ]
  },
  {
   "cell_type": "code",
   "execution_count": 9,
   "id": "2336e8cc",
   "metadata": {},
   "outputs": [
    {
     "name": "stdout",
     "output_type": "stream",
     "text": [
      "tensor([1.4230e+01, 1.7100e+00, 2.4300e+00, 1.5600e+01, 1.2700e+02, 2.8000e+00,\n",
      "        3.0600e+00, 2.8000e-01, 2.2900e+00, 5.6400e+00, 1.0400e+00, 3.9200e+00,\n",
      "        1.0650e+03]) tensor([1.])\n"
     ]
    }
   ],
   "source": [
    "dataset = WineDataset()\n",
    "first_data = dataset[0]\n",
    "features, lables = first_data\n",
    "print(features, lables)"
   ]
  },
  {
   "cell_type": "code",
   "execution_count": 36,
   "id": "1538f186",
   "metadata": {},
   "outputs": [],
   "source": [
    "dataloader = DataLoader(dataset = dataset, batch_size =4, shuffle = True)"
   ]
  },
  {
   "cell_type": "code",
   "execution_count": 40,
   "id": "39c70ba2",
   "metadata": {},
   "outputs": [
    {
     "name": "stdout",
     "output_type": "stream",
     "text": [
      "178 45\n"
     ]
    }
   ],
   "source": [
    "#training loops\n",
    "num_epochs = 2\n",
    "total_samples = len(dataset)\n",
    "n_iterations = math.ceil(total_samples/4)\n",
    "print(total_samples, n_iterations)\n"
   ]
  },
  {
   "cell_type": "code",
   "execution_count": 49,
   "id": "9ccf1481",
   "metadata": {},
   "outputs": [
    {
     "name": "stdout",
     "output_type": "stream",
     "text": [
      "epoch: 1/2, step: 5/45, inputs: torch.Size([4, 13])\n",
      "epoch: 1/2, step: 10/45, inputs: torch.Size([4, 13])\n",
      "epoch: 1/2, step: 15/45, inputs: torch.Size([4, 13])\n",
      "epoch: 1/2, step: 20/45, inputs: torch.Size([4, 13])\n",
      "epoch: 1/2, step: 25/45, inputs: torch.Size([4, 13])\n",
      "epoch: 1/2, step: 30/45, inputs: torch.Size([4, 13])\n",
      "epoch: 1/2, step: 35/45, inputs: torch.Size([4, 13])\n",
      "epoch: 1/2, step: 40/45, inputs: torch.Size([4, 13])\n",
      "epoch: 1/2, step: 45/45, inputs: torch.Size([2, 13])\n",
      "epoch: 2/2, step: 5/45, inputs: torch.Size([4, 13])\n",
      "epoch: 2/2, step: 10/45, inputs: torch.Size([4, 13])\n",
      "epoch: 2/2, step: 15/45, inputs: torch.Size([4, 13])\n",
      "epoch: 2/2, step: 20/45, inputs: torch.Size([4, 13])\n",
      "epoch: 2/2, step: 25/45, inputs: torch.Size([4, 13])\n",
      "epoch: 2/2, step: 30/45, inputs: torch.Size([4, 13])\n",
      "epoch: 2/2, step: 35/45, inputs: torch.Size([4, 13])\n",
      "epoch: 2/2, step: 40/45, inputs: torch.Size([4, 13])\n",
      "epoch: 2/2, step: 45/45, inputs: torch.Size([2, 13])\n"
     ]
    }
   ],
   "source": [
    "for epoch in range(num_epochs):\n",
    "    for i,(inputs, lables) in enumerate(dataloader):\n",
    "        # forward backward and update\n",
    "        if(i+1)%5 ==0:\n",
    "            print(f'epoch: {epoch+1}/{num_epochs}, step: {i+1}/{n_iterations}, inputs: {inputs.shape}')\n",
    "        "
   ]
  },
  {
   "cell_type": "code",
   "execution_count": 52,
   "id": "815934b6",
   "metadata": {},
   "outputs": [],
   "source": []
  },
  {
   "cell_type": "code",
   "execution_count": 58,
   "id": "ed5c8c8b",
   "metadata": {},
   "outputs": [
    {
     "data": {
      "text/plain": [
       "<function enumerate.mro()>"
      ]
     },
     "execution_count": 58,
     "metadata": {},
     "output_type": "execute_result"
    }
   ],
   "source": []
  },
  {
   "cell_type": "code",
   "execution_count": null,
   "id": "94049ae8",
   "metadata": {},
   "outputs": [],
   "source": []
  }
 ],
 "metadata": {
  "kernelspec": {
   "display_name": "Python 3 (ipykernel)",
   "language": "python",
   "name": "python3"
  },
  "language_info": {
   "codemirror_mode": {
    "name": "ipython",
    "version": 3
   },
   "file_extension": ".py",
   "mimetype": "text/x-python",
   "name": "python",
   "nbconvert_exporter": "python",
   "pygments_lexer": "ipython3",
   "version": "3.8.13"
  }
 },
 "nbformat": 4,
 "nbformat_minor": 5
}
